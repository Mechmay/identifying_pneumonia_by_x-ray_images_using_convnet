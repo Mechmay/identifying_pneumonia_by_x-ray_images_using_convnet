{
  "nbformat": 4,
  "nbformat_minor": 0,
  "metadata": {
    "accelerator": "GPU",
    "colab": {
      "name": "Chest_x-ray_classification.ipynb",
      "provenance": [],
      "collapsed_sections": [],
      "authorship_tag": "ABX9TyPred2ez94v1wizUI5rtTp9"
    },
    "kernelspec": {
      "display_name": "Python 3",
      "name": "python3"
    }
  },
  "cells": [
    {
      "cell_type": "code",
      "metadata": {
        "colab": {
          "base_uri": "https://localhost:8080/"
        },
        "id": "335z1S2Yb9HP",
        "outputId": "ff7db527-3d99-4386-c853-1811a49a326b"
      },
      "source": [
        "from google.colab import drive\r\n",
        "drive.mount('/content/drive')"
      ],
      "execution_count": 1,
      "outputs": [
        {
          "output_type": "stream",
          "text": [
            "Mounted at /content/drive\n"
          ],
          "name": "stdout"
        }
      ]
    },
    {
      "cell_type": "code",
      "metadata": {
        "id": "UJnjBuQVc2rC"
      },
      "source": [
        "train_data_dir = '/content/drive/MyDrive/Colab_Notebooks/Deep Learning/Build deep learning models with tensorflow/Image Classification/data/train'\r\n",
        "validation_data_dir = '/content/drive/MyDrive/Colab_Notebooks/Deep Learning/Build deep learning models with tensorflow/Image Classification/data/test'\r\n",
        "\r\n"
      ],
      "execution_count": 2,
      "outputs": []
    },
    {
      "cell_type": "code",
      "metadata": {
        "colab": {
          "base_uri": "https://localhost:8080/"
        },
        "id": "zLtEtZd1R37k",
        "outputId": "8dbdeba0-932f-4b38-dfff-dc2d7b3f7b8d"
      },
      "source": [
        "from tensorflow.keras.preprocessing.image import ImageDataGenerator\r\n",
        "import tensorflow as tf\r\n",
        "\r\n",
        "BATCH_SIZE = 16\r\n",
        "\r\n",
        "# Data augmentation and prerocessing \r\n",
        "print(\"\\nLoading training data...\")\r\n",
        "\r\n",
        "training_data_generator = ImageDataGenerator(\r\n",
        "        rescale=1./255,\r\n",
        "        zoom_range=0.2,\r\n",
        "        rotation_range=15,\r\n",
        "        width_shift_range=0.05,\r\n",
        "        height_shift_range=0.05)\r\n",
        "\r\n",
        "training_iterator = training_data_generator.flow_from_directory(train_data_dir,class_mode='categorical',color_mode='grayscale',batch_size=BATCH_SIZE)\r\n",
        "\r\n",
        "\r\n",
        "print(\"\\nLoading validation data...\")\r\n",
        "\r\n",
        "#1) Create validation_data_generator, an ImageDataGenerator that just performs pixel normalization:\r\n",
        "\r\n",
        "\r\n",
        "validation_data_generator = ImageDataGenerator(rescale = 1./255)\r\n",
        "#2) Use validation_data_generator.flow_from_directory(...) to load the validation data from the 'data/test' folder:\r\n",
        "\r\n",
        "validation_iterator = validation_data_generator.flow_from_directory(validation_data_dir, class_mode = 'categorical', color_mode = 'grayscale', batch_size = BATCH_SIZE)\r\n",
        "\r\n",
        "print(\"\\nBuilding model...\")\r\n",
        "\r\n",
        "#Creating the model, with convolutional and max pooling layers:\r\n",
        "\r\n",
        "model = tf.keras.Sequential()\r\n",
        "# Our input feature map is 256x256x1: 256x256 for the image pixels, and 1 for\r\n",
        "# the color channel: grayscale\r\n",
        "model.add(tf.keras.Input(shape=(256, 256, 1)))\r\n",
        "\r\n",
        "# First convolution extracts 2 filters that are 5x5\r\n",
        "# Convolution is followed by max-pooling layer with a 5x5 window\r\n",
        "model.add(tf.keras.layers.Conv2D(2, 5, strides=3, activation=\"relu\")) \r\n",
        "model.add(tf.keras.layers.MaxPooling2D(\r\n",
        "    pool_size=(5, 5), strides=(5,5)))\r\n",
        "\r\n",
        "# Second convolution extracts 4 filters that are 3x3\r\n",
        "# Convolution is followed by max-pooling layer with a 2x2 window\r\n",
        "model.add(tf.keras.layers.Conv2D(4, 3, strides=1, activation=\"relu\")) \r\n",
        "model.add(tf.keras.layers.MaxPooling2D(\r\n",
        "    pool_size=(2,2), strides=(2,2)))\r\n",
        "\r\n",
        "# Flatten feature map to a 1-dim tensor\r\n",
        "model.add(tf.keras.layers.Flatten())\r\n",
        "\r\n",
        "model.add(tf.keras.layers.Dropout(0.2))\r\n",
        "\r\n",
        "# Create output layer with a single node and softmax activation\r\n",
        "model.add(tf.keras.layers.Dense(2,activation=\"softmax\"))\r\n",
        "\r\n",
        "model.summary()\r\n",
        "\r\n",
        "\r\n",
        "print(\"\\nCompiling model...\")\r\n",
        "\r\n",
        "#3) Compile the model with an Adam optimizer, Categorical Cross Entropy Loss, and Accuracy and AUC metrics:\r\n",
        "opt = tf.keras.optimizers.Adam(learning_rate = 0.005)\r\n",
        "loss = tf.keras.losses.CategoricalCrossentropy()\r\n",
        "model.compile(\r\n",
        "    optimizer=opt,\r\n",
        "    loss=loss,\r\n",
        "    metrics=[tf.keras.metrics.CategoricalAccuracy(),tf.keras.metrics.AUC()]\r\n",
        ")\r\n",
        "\r\n",
        "print(\"\\nTraining model...\")\r\n",
        "\r\n",
        "#4) train and validate model for 5 epochs:\r\n",
        "\r\n",
        "history = model.fit(\r\n",
        "        training_iterator,\r\n",
        "        steps_per_epoch=training_iterator.samples/BATCH_SIZE,\r\n",
        "        epochs=5,\r\n",
        "        validation_data=validation_iterator,\r\n",
        "        validation_steps=validation_iterator.samples/BATCH_SIZE)"
      ],
      "execution_count": 3,
      "outputs": [
        {
          "output_type": "stream",
          "text": [
            "\n",
            "Loading training data...\n",
            "Found 5232 images belonging to 2 classes.\n",
            "\n",
            "Loading validation data...\n",
            "Found 624 images belonging to 2 classes.\n",
            "\n",
            "Building model...\n",
            "Model: \"sequential\"\n",
            "_________________________________________________________________\n",
            "Layer (type)                 Output Shape              Param #   \n",
            "=================================================================\n",
            "conv2d (Conv2D)              (None, 84, 84, 2)         52        \n",
            "_________________________________________________________________\n",
            "max_pooling2d (MaxPooling2D) (None, 16, 16, 2)         0         \n",
            "_________________________________________________________________\n",
            "conv2d_1 (Conv2D)            (None, 14, 14, 4)         76        \n",
            "_________________________________________________________________\n",
            "max_pooling2d_1 (MaxPooling2 (None, 7, 7, 4)           0         \n",
            "_________________________________________________________________\n",
            "flatten (Flatten)            (None, 196)               0         \n",
            "_________________________________________________________________\n",
            "dropout (Dropout)            (None, 196)               0         \n",
            "_________________________________________________________________\n",
            "dense (Dense)                (None, 2)                 394       \n",
            "=================================================================\n",
            "Total params: 522\n",
            "Trainable params: 522\n",
            "Non-trainable params: 0\n",
            "_________________________________________________________________\n",
            "\n",
            "Compiling model...\n",
            "\n",
            "Training model...\n",
            "Epoch 1/5\n",
            "327/327 [==============================] - 3804s 12s/step - loss: 0.5646 - categorical_accuracy: 0.7487 - auc: 0.7757 - val_loss: 0.4163 - val_categorical_accuracy: 0.8301 - val_auc: 0.8925\n",
            "Epoch 2/5\n",
            "327/327 [==============================] - 90s 274ms/step - loss: 0.4124 - categorical_accuracy: 0.8246 - auc: 0.8972 - val_loss: 0.3847 - val_categorical_accuracy: 0.8301 - val_auc: 0.9103\n",
            "Epoch 3/5\n",
            "327/327 [==============================] - 89s 272ms/step - loss: 0.3293 - categorical_accuracy: 0.8648 - auc: 0.9349 - val_loss: 0.3702 - val_categorical_accuracy: 0.8478 - val_auc: 0.9159\n",
            "Epoch 4/5\n",
            "327/327 [==============================] - 89s 271ms/step - loss: 0.2831 - categorical_accuracy: 0.8930 - auc: 0.9526 - val_loss: 0.3529 - val_categorical_accuracy: 0.8574 - val_auc: 0.9231\n",
            "Epoch 5/5\n",
            "327/327 [==============================] - 88s 269ms/step - loss: 0.2549 - categorical_accuracy: 0.8960 - auc: 0.9606 - val_loss: 0.3872 - val_categorical_accuracy: 0.8301 - val_auc: 0.9110\n"
          ],
          "name": "stdout"
        }
      ]
    },
    {
      "cell_type": "code",
      "metadata": {
        "id": "ff5bnT60iUOB",
        "colab": {
          "base_uri": "https://localhost:8080/"
        },
        "outputId": "8cd963f3-cbeb-4a5d-e2a8-c1a728429021"
      },
      "source": [
        "from sklearn.metrics import classification_report\r\n",
        "from sklearn.metrics import confusion_matrix\r\n",
        "import matplotlib.pyplot as plt\r\n",
        "import numpy as numpy\r\n",
        "test_steps_per_epoch = numpy.math.ceil(validation_iterator.samples / validation_iterator.batch_size)\r\n",
        "predictions = model.predict(validation_iterator, steps=test_steps_per_epoch)\r\n",
        "test_steps_per_epoch = numpy.math.ceil(validation_iterator.samples / validation_iterator.batch_size)\r\n",
        "predicted_classes = numpy.argmax(predictions, axis=1)\r\n",
        "true_classes = validation_iterator.classes\r\n",
        "class_labels = list(validation_iterator.class_indices.keys())\r\n",
        "report = classification_report(true_classes, predicted_classes, target_names=class_labels)\r\n",
        "print(report)   \r\n",
        " \r\n",
        "cm=confusion_matrix(true_classes,predicted_classes)\r\n",
        "print(cm)\r\n"
      ],
      "execution_count": 4,
      "outputs": [
        {
          "output_type": "stream",
          "text": [
            "              precision    recall  f1-score   support\n",
            "\n",
            "      NORMAL       0.35      0.21      0.26       234\n",
            "   PNEUMONIA       0.62      0.76      0.68       390\n",
            "\n",
            "    accuracy                           0.55       624\n",
            "   macro avg       0.48      0.49      0.47       624\n",
            "weighted avg       0.52      0.55      0.52       624\n",
            "\n",
            "[[ 50 184]\n",
            " [ 94 296]]\n"
          ],
          "name": "stdout"
        }
      ]
    },
    {
      "cell_type": "code",
      "metadata": {
        "colab": {
          "base_uri": "https://localhost:8080/",
          "height": 297
        },
        "id": "4I0t-5telU05",
        "outputId": "8c588336-b5bf-4ea3-81a0-75a1ecb282d1"
      },
      "source": [
        "# plotting categorical and validation accuracy over epochs\r\n",
        "fig = plt.figure()\r\n",
        "ax1 = fig.add_subplot(2, 1, 1)\r\n",
        "ax1.plot(history.history['categorical_accuracy'])\r\n",
        "ax1.plot(history.history['val_categorical_accuracy'])\r\n",
        "ax1.set_title('model accuracy')\r\n",
        "ax1.set_xlabel('epoch')\r\n",
        "ax1.set_ylabel('accuracy')\r\n",
        "ax1.legend(['train', 'validation'], loc='upper left')\r\n",
        " \r\n",
        "# plotting auc and validation auc over epochs\r\n",
        "ax2 = fig.add_subplot(2, 1, 2)\r\n",
        "ax2.plot(history.history['auc'])\r\n",
        "ax2.plot(history.history['val_auc'])\r\n",
        "ax2.set_title('model auc')\r\n",
        "ax2.set_xlabel('epoch')\r\n",
        "ax2.set_ylabel('auc')\r\n",
        "ax2.legend(['train', 'validation'], loc='upper left')\r\n",
        " \r\n",
        "# used to keep plots from overlapping\r\n",
        "fig.tight_layout()\r\n",
        "plt.show()\r\n",
        "# fig.savefig('static/images/my_plots.png')"
      ],
      "execution_count": 5,
      "outputs": [
        {
          "output_type": "display_data",
          "data": {
            "image/png": "[encoded data removed]",
            "text/plain": [
              "<Figure size 432x288 with 2 Axes>"
            ]
          },
          "metadata": {
            "tags": [],
            "needs_background": "light"
          }
        }
      ]
    }
  ]
}